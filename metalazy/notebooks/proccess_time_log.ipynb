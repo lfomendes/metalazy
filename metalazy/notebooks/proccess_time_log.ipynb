{
 "cells": [
  {
   "cell_type": "code",
   "execution_count": 3,
   "metadata": {},
   "outputs": [
    {
     "name": "stdout",
     "output_type": "stream",
     "text": [
      "['log_times_3.json', 'log_times_4.json', 'log_times_2.json', 'log_times_1.json', 'log_times_0.json']\n",
      "\n",
      "log_times_3.json\n",
      "{'weaker': 11505.152772665024, 'weight': 4.346397876739502, 'knn': 1.1032772064208984, 'total_pred_parallel': 1084.1229076385498, 'cooc': 830.2945883274078}\n",
      "{'knn': 3766, 'total_pred': 3766}\n",
      "\n",
      "log_times_4.json\n",
      "{'weaker': 22939.018434286118, 'weight': 7.986959218978882, 'knn': 2.370903491973877, 'total_pred_parallel': 2154.311684846878, 'cooc': 1651.2704775333405}\n",
      "{'knn': 7528, 'total_pred': 7528}\n",
      "\n",
      "log_times_2.json\n",
      "{'weaker': 34348.66919159889, 'weight': 12.61980414390564, 'knn': 3.656665802001953, 'total_pred_parallel': 3226.878103494644, 'cooc': 2491.3610932826996}\n",
      "{'knn': 11298, 'total_pred': 11298}\n",
      "\n",
      "log_times_1.json\n",
      "{'weaker': 45588.29962849617, 'weight': 15.5197274684906, 'knn': 4.930971384048462, 'total_pred_parallel': 4290.899913787842, 'cooc': 3305.1702077388763}\n",
      "{'knn': 15071, 'total_pred': 15071}\n",
      "\n",
      "log_times_0.json\n",
      "{'weaker': 57200.86171770096, 'weight': 19.330614805221558, 'knn': 6.216726064682007, 'total_pred_parallel': 5381.964368581772, 'cooc': 4126.281365871429}\n",
      "{'knn': 18846, 'total_pred': 18846}\n",
      "weaker\n",
      "3.03517254153141\n",
      "weight\n",
      "0.0010257144648849388\n",
      "knn\n",
      "0.00032986979012427075\n",
      "total_pred_parallel\n",
      "0.2855759507896515\n",
      "cooc\n",
      "0.21894732918770188\n"
     ]
    }
   ],
   "source": [
    "import json\n",
    "import os\n",
    "\n",
    "json_folder_path = '/home/lfmendes/data/mestrado/metalazy/results/time_pred/time_pred/20ng_time_pred_2/'\n",
    "\n",
    "files = [filename for filename in os.listdir(json_folder_path) if\n",
    "             (filename.startswith(\"log_times\") or filename.endswith(\".json\"))]\n",
    "print(files)\n",
    "\n",
    "total_time = {'knn':0, 'total_pred_parallel':0, 'weight':0, 'weaker':0, 'cooc':0}\n",
    "total_instances = {'knn':0,'total_pred':0}\n",
    "\n",
    "for json_file_path in files:\n",
    "    with open(json_folder_path + '/' + json_file_path) as json_file:\n",
    "        print('\\n{}'.format(json_file_path))\n",
    "        data = json.load(json_file)    \n",
    "        for item in data:       \n",
    "            if 'knn' in item:\n",
    "                total_time['knn'] += item['knn']\n",
    "                total_instances['knn'] += item['size']\n",
    "            else:\n",
    "                total_time['total_pred_parallel'] += item['total_pred']\n",
    "                total_instances['total_pred'] += item['size']\n",
    "                for proccess in item['proccess']:\n",
    "                    total_time['weight'] += sum(proccess['time_sum_weight'])\n",
    "                    total_time['weaker'] += sum(proccess['time_sum_pred'])\n",
    "                    total_time['cooc'] += sum(proccess['time_sum_cooc'])\n",
    "    print(total_time)\n",
    "    print(total_instances)\n",
    "\n",
    "total_linear = total_time['weight'] + total_time['weaker'] + total_time['cooc']\n",
    "for key in total_time.keys():\n",
    "    print(key)    \n",
    "    if key == 'knn':\n",
    "        print(total_time['knn']/total_instances['knn'])\n",
    "    else:    \n",
    "        print(total_time[key]/total_instances['knn'])"
   ]
  }
 ],
 "metadata": {
  "kernelspec": {
   "display_name": "Python 3",
   "language": "python",
   "name": "python3"
  },
  "language_info": {
   "codemirror_mode": {
    "name": "ipython",
    "version": 3
   },
   "file_extension": ".py",
   "mimetype": "text/x-python",
   "name": "python",
   "nbconvert_exporter": "python",
   "pygments_lexer": "ipython3",
   "version": "3.5.2"
  }
 },
 "nbformat": 4,
 "nbformat_minor": 2
}
